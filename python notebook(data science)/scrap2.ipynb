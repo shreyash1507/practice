{
 "cells": [
  {
   "cell_type": "code",
   "execution_count": 25,
   "metadata": {},
   "outputs": [],
   "source": [
    "import pandas as pd\n",
    "import random\n",
    "import matplotlib.pyplot as plt\n",
    "import seaborn as sb"
   ]
  },
  {
   "cell_type": "code",
   "execution_count": 56,
   "metadata": {},
   "outputs": [],
   "source": [
    "df=pd.read_csv('books.csv')"
   ]
  },
  {
   "cell_type": "code",
   "execution_count": 57,
   "metadata": {},
   "outputs": [
    {
     "data": {
      "text/html": [
       "<div>\n",
       "<style scoped>\n",
       "    .dataframe tbody tr th:only-of-type {\n",
       "        vertical-align: middle;\n",
       "    }\n",
       "\n",
       "    .dataframe tbody tr th {\n",
       "        vertical-align: top;\n",
       "    }\n",
       "\n",
       "    .dataframe thead th {\n",
       "        text-align: right;\n",
       "    }\n",
       "</style>\n",
       "<table border=\"1\" class=\"dataframe\">\n",
       "  <thead>\n",
       "    <tr style=\"text-align: right;\">\n",
       "      <th></th>\n",
       "      <th>Title</th>\n",
       "      <th>Rating</th>\n",
       "      <th>Price</th>\n",
       "      <th>Stock</th>\n",
       "    </tr>\n",
       "  </thead>\n",
       "  <tbody>\n",
       "    <tr>\n",
       "      <th>0</th>\n",
       "      <td>A Light in the ...</td>\n",
       "      <td>Three</td>\n",
       "      <td>Â£51.77</td>\n",
       "      <td>1</td>\n",
       "    </tr>\n",
       "    <tr>\n",
       "      <th>1</th>\n",
       "      <td>Tipping the Velvet</td>\n",
       "      <td>One</td>\n",
       "      <td>Â£53.74</td>\n",
       "      <td>0</td>\n",
       "    </tr>\n",
       "    <tr>\n",
       "      <th>2</th>\n",
       "      <td>Soumission</td>\n",
       "      <td>One</td>\n",
       "      <td>Â£50.10</td>\n",
       "      <td>0</td>\n",
       "    </tr>\n",
       "    <tr>\n",
       "      <th>3</th>\n",
       "      <td>Sharp Objects</td>\n",
       "      <td>Four</td>\n",
       "      <td>Â£47.82</td>\n",
       "      <td>0</td>\n",
       "    </tr>\n",
       "    <tr>\n",
       "      <th>4</th>\n",
       "      <td>Sapiens: A Brief History ...</td>\n",
       "      <td>Five</td>\n",
       "      <td>Â£54.23</td>\n",
       "      <td>0</td>\n",
       "    </tr>\n",
       "    <tr>\n",
       "      <th>...</th>\n",
       "      <td>...</td>\n",
       "      <td>...</td>\n",
       "      <td>...</td>\n",
       "      <td>...</td>\n",
       "    </tr>\n",
       "    <tr>\n",
       "      <th>995</th>\n",
       "      <td>Alice in Wonderland (Alice's ...</td>\n",
       "      <td>One</td>\n",
       "      <td>Â£55.53</td>\n",
       "      <td>1</td>\n",
       "    </tr>\n",
       "    <tr>\n",
       "      <th>996</th>\n",
       "      <td>Ajin: Demi-Human, Volume 1 ...</td>\n",
       "      <td>Four</td>\n",
       "      <td>Â£57.06</td>\n",
       "      <td>0</td>\n",
       "    </tr>\n",
       "    <tr>\n",
       "      <th>997</th>\n",
       "      <td>A Spy's Devotion (The ...</td>\n",
       "      <td>Five</td>\n",
       "      <td>Â£16.97</td>\n",
       "      <td>0</td>\n",
       "    </tr>\n",
       "    <tr>\n",
       "      <th>998</th>\n",
       "      <td>1st to Die (Women's ...</td>\n",
       "      <td>One</td>\n",
       "      <td>Â£53.98</td>\n",
       "      <td>1</td>\n",
       "    </tr>\n",
       "    <tr>\n",
       "      <th>999</th>\n",
       "      <td>1,000 Places to See ...</td>\n",
       "      <td>Five</td>\n",
       "      <td>Â£26.08</td>\n",
       "      <td>0</td>\n",
       "    </tr>\n",
       "  </tbody>\n",
       "</table>\n",
       "<p>1000 rows × 4 columns</p>\n",
       "</div>"
      ],
      "text/plain": [
       "                                Title Rating    Price  Stock\n",
       "0                  A Light in the ...  Three  Â£51.77      1\n",
       "1                  Tipping the Velvet    One  Â£53.74      0\n",
       "2                          Soumission    One  Â£50.10      0\n",
       "3                       Sharp Objects   Four  Â£47.82      0\n",
       "4        Sapiens: A Brief History ...   Five  Â£54.23      0\n",
       "..                                ...    ...      ...    ...\n",
       "995  Alice in Wonderland (Alice's ...    One  Â£55.53      1\n",
       "996    Ajin: Demi-Human, Volume 1 ...   Four  Â£57.06      0\n",
       "997         A Spy's Devotion (The ...   Five  Â£16.97      0\n",
       "998           1st to Die (Women's ...    One  Â£53.98      1\n",
       "999           1,000 Places to See ...   Five  Â£26.08      0\n",
       "\n",
       "[1000 rows x 4 columns]"
      ]
     },
     "execution_count": 57,
     "metadata": {},
     "output_type": "execute_result"
    }
   ],
   "source": [
    "df['Stock']=df['Stock'].apply(lambda x:random.choice([1,0]))\n",
    "df"
   ]
  },
  {
   "cell_type": "code",
   "execution_count": 58,
   "metadata": {},
   "outputs": [
    {
     "data": {
      "text/plain": [
       "array(['Three', 'One', 'Four', 'Five', 'Two'], dtype=object)"
      ]
     },
     "execution_count": 58,
     "metadata": {},
     "output_type": "execute_result"
    }
   ],
   "source": [
    "df.Rating.unique()"
   ]
  },
  {
   "cell_type": "code",
   "execution_count": 59,
   "metadata": {},
   "outputs": [],
   "source": [
    "df['Rating']=df['Rating'].map({'One':1,'Two':2,'Three':3,'Four':4,\"Five\":5})"
   ]
  },
  {
   "cell_type": "code",
   "execution_count": 60,
   "metadata": {},
   "outputs": [
    {
     "data": {
      "text/html": [
       "<div>\n",
       "<style scoped>\n",
       "    .dataframe tbody tr th:only-of-type {\n",
       "        vertical-align: middle;\n",
       "    }\n",
       "\n",
       "    .dataframe tbody tr th {\n",
       "        vertical-align: top;\n",
       "    }\n",
       "\n",
       "    .dataframe thead th {\n",
       "        text-align: right;\n",
       "    }\n",
       "</style>\n",
       "<table border=\"1\" class=\"dataframe\">\n",
       "  <thead>\n",
       "    <tr style=\"text-align: right;\">\n",
       "      <th></th>\n",
       "      <th>Title</th>\n",
       "      <th>Rating</th>\n",
       "      <th>Price</th>\n",
       "      <th>Stock</th>\n",
       "    </tr>\n",
       "  </thead>\n",
       "  <tbody>\n",
       "    <tr>\n",
       "      <th>0</th>\n",
       "      <td>A Light in the ...</td>\n",
       "      <td>3</td>\n",
       "      <td>Â£51.77</td>\n",
       "      <td>1</td>\n",
       "    </tr>\n",
       "    <tr>\n",
       "      <th>1</th>\n",
       "      <td>Tipping the Velvet</td>\n",
       "      <td>1</td>\n",
       "      <td>Â£53.74</td>\n",
       "      <td>0</td>\n",
       "    </tr>\n",
       "    <tr>\n",
       "      <th>2</th>\n",
       "      <td>Soumission</td>\n",
       "      <td>1</td>\n",
       "      <td>Â£50.10</td>\n",
       "      <td>0</td>\n",
       "    </tr>\n",
       "    <tr>\n",
       "      <th>3</th>\n",
       "      <td>Sharp Objects</td>\n",
       "      <td>4</td>\n",
       "      <td>Â£47.82</td>\n",
       "      <td>0</td>\n",
       "    </tr>\n",
       "    <tr>\n",
       "      <th>4</th>\n",
       "      <td>Sapiens: A Brief History ...</td>\n",
       "      <td>5</td>\n",
       "      <td>Â£54.23</td>\n",
       "      <td>0</td>\n",
       "    </tr>\n",
       "  </tbody>\n",
       "</table>\n",
       "</div>"
      ],
      "text/plain": [
       "                          Title  Rating    Price  Stock\n",
       "0            A Light in the ...       3  Â£51.77      1\n",
       "1            Tipping the Velvet       1  Â£53.74      0\n",
       "2                    Soumission       1  Â£50.10      0\n",
       "3                 Sharp Objects       4  Â£47.82      0\n",
       "4  Sapiens: A Brief History ...       5  Â£54.23      0"
      ]
     },
     "execution_count": 60,
     "metadata": {},
     "output_type": "execute_result"
    }
   ],
   "source": [
    "df.head()"
   ]
  },
  {
   "cell_type": "code",
   "execution_count": 61,
   "metadata": {},
   "outputs": [
    {
     "data": {
      "text/plain": [
       "array(['Â£51.77', 'Â£53.74', 'Â£50.10', 'Â£47.82', 'Â£54.23', 'Â£22.65',\n",
       "       'Â£33.34', 'Â£17.93', 'Â£22.60', 'Â£52.15', 'Â£13.99', 'Â£20.66',\n",
       "       'Â£17.46', 'Â£52.29', 'Â£35.02', 'Â£57.25', 'Â£23.88', 'Â£37.59',\n",
       "       'Â£51.33', 'Â£45.17', 'Â£12.84', 'Â£37.32', 'Â£30.52', 'Â£25.27',\n",
       "       'Â£34.53', 'Â£54.64', 'Â£22.50', 'Â£53.13', 'Â£40.30', 'Â£44.18',\n",
       "       'Â£17.66', 'Â£31.05', 'Â£23.82', 'Â£36.89', 'Â£15.94', 'Â£33.29',\n",
       "       'Â£18.02', 'Â£19.63', 'Â£52.22', 'Â£33.63', 'Â£57.31', 'Â£26.41',\n",
       "       'Â£47.61', 'Â£23.11', 'Â£45.07', 'Â£31.77', 'Â£50.27', 'Â£14.27',\n",
       "       'Â£18.78', 'Â£25.52', 'Â£16.28', 'Â£31.12', 'Â£19.49', 'Â£17.27',\n",
       "       'Â£19.09', 'Â£56.13', 'Â£56.41', 'Â£56.50', 'Â£45.22', 'Â£38.16',\n",
       "       'Â£54.11', 'Â£42.96', 'Â£23.89', 'Â£16.77', 'Â£20.59', 'Â£37.13',\n",
       "       'Â£56.06', 'Â£58.11', 'Â£49.05', 'Â£40.76', 'Â£19.73', 'Â£32.24',\n",
       "       'Â£41.83', 'Â£39.58', 'Â£39.25', 'Â£25.02', 'Â£51.04', 'Â£19.83',\n",
       "       'Â£50.40', 'Â£13.61', 'Â£13.34', 'Â£18.97', 'Â£36.28', 'Â£10.16',\n",
       "       'Â£15.44', 'Â£48.41', 'Â£46.35', 'Â£14.07', 'Â£14.86', 'Â£33.37',\n",
       "       'Â£56.40', 'Â£14.02', 'Â£46.91', 'Â£45.61', 'Â£19.92', 'Â£40.11',\n",
       "       'Â£53.90', 'Â£35.67', 'Â£22.00', 'Â£57.36', 'Â£29.17', 'Â£54.63',\n",
       "       'Â£46.03', 'Â£33.97', 'Â£22.11', 'Â£29.69', 'Â£15.97', 'Â£21.96',\n",
       "       'Â£54.35', 'Â£37.97', 'Â£51.99', 'Â£43.29', 'Â£36.72', 'Â£17.08',\n",
       "       'Â£29.14', 'Â£28.81', 'Â£49.46', 'Â£37.92', 'Â£28.09', 'Â£30.81',\n",
       "       'Â£42.95', 'Â£56.76', 'Â£16.64', 'Â£55.53', 'Â£28.13', 'Â£52.37',\n",
       "       'Â£54.00', 'Â£21.87', 'Â£43.30', 'Â£21.04', 'Â£41.60', 'Â£35.07',\n",
       "       'Â£59.64', 'Â£52.72', 'Â£58.08', 'Â£24.12', 'Â£42.15', 'Â£12.61',\n",
       "       'Â£17.44', 'Â£33.14', 'Â£27.37', 'Â£51.36', 'Â£36.00', 'Â£10.65',\n",
       "       'Â£43.54', 'Â£38.21', 'Â£37.34', 'Â£44.10', 'Â£55.85', 'Â£37.60',\n",
       "       'Â£10.97', 'Â£41.82', 'Â£36.95', 'Â£44.28', 'Â£55.02', 'Â£17.24',\n",
       "       'Â£23.15', 'Â£41.25', 'Â£32.00', 'Â£38.49', 'Â£10.93', 'Â£27.55',\n",
       "       'Â£55.99', 'Â£16.24', 'Â£26.12', 'Â£12.23', 'Â£23.99', 'Â£29.06',\n",
       "       'Â£20.27', 'Â£43.55', 'Â£36.94', 'Â£20.47', 'Â£41.06', 'Â£14.19',\n",
       "       'Â£38.28', 'Â£41.05', 'Â£30.25', 'Â£28.26', 'Â£10.76', 'Â£16.85',\n",
       "       'Â£13.47', 'Â£48.56', 'Â£19.15', 'Â£42.98', 'Â£22.16', 'Â£49.43',\n",
       "       'Â£29.99', 'Â£21.36', 'Â£29.00', 'Â£53.53', 'Â£41.62', 'Â£54.59',\n",
       "       'Â£34.95', 'Â£37.72', 'Â£35.61', 'Â£42.16', 'Â£19.19', 'Â£19.43',\n",
       "       'Â£37.80', 'Â£30.80', 'Â£27.43', 'Â£11.11', 'Â£36.50', 'Â£15.38',\n",
       "       'Â£15.48', 'Â£46.82', 'Â£18.46', 'Â£36.58', 'Â£50.54', 'Â£12.51',\n",
       "       'Â£24.70', 'Â£43.61', 'Â£14.36', 'Â£52.65', 'Â£38.20', 'Â£19.60',\n",
       "       'Â£12.96', 'Â£37.10', 'Â£46.31', 'Â£45.95', 'Â£22.08', 'Â£25.38',\n",
       "       'Â£27.12', 'Â£43.04', 'Â£56.80', 'Â£25.91', 'Â£32.61', 'Â£27.88',\n",
       "       'Â£52.67', 'Â£46.02', 'Â£44.48', 'Â£37.40', 'Â£54.04', 'Â£16.88',\n",
       "       'Â£28.08', 'Â£10.40', 'Â£44.07', 'Â£23.40', 'Â£17.43', 'Â£54.21',\n",
       "       'Â£40.67', 'Â£52.26', 'Â£28.77', 'Â£13.82', 'Â£25.85', 'Â£48.78',\n",
       "       'Â£35.35', 'Â£44.73', 'Â£15.77', 'Â£39.24', 'Â£13.92', 'Â£10.69',\n",
       "       'Â£45.21', 'Â£45.58', 'Â£11.89', 'Â£39.50', 'Â£44.74', 'Â£52.79',\n",
       "       'Â£35.43', 'Â£55.84', 'Â£48.87', 'Â£46.78', 'Â£25.48', 'Â£23.57',\n",
       "       'Â£50.89', 'Â£10.56', 'Â£18.28', 'Â£11.83', 'Â£21.95', 'Â£38.39',\n",
       "       'Â£41.56', 'Â£24.48', 'Â£40.36', 'Â£28.90', 'Â£37.61', 'Â£38.85',\n",
       "       'Â£53.95', 'Â£49.83', 'Â£51.51', 'Â£18.03', 'Â£26.79', 'Â£19.55',\n",
       "       'Â£29.65', 'Â£25.98', 'Â£10.60', 'Â£14.75', 'Â£47.02', 'Â£28.82',\n",
       "       'Â£58.79', 'Â£10.23', 'Â£30.03', 'Â£45.84', 'Â£15.06', 'Â£46.47',\n",
       "       'Â£27.09', 'Â£57.62', 'Â£14.39', 'Â£51.75', 'Â£54.07', 'Â£55.35',\n",
       "       'Â£40.12', 'Â£37.51', 'Â£11.21', 'Â£47.72', 'Â£25.01', 'Â£22.13',\n",
       "       'Â£44.14', 'Â£56.02', 'Â£11.23', 'Â£43.28', 'Â£47.27', 'Â£20.29',\n",
       "       'Â£50.83', 'Â£31.85', 'Â£46.23', 'Â£49.32', 'Â£32.01', 'Â£28.01',\n",
       "       'Â£50.62', 'Â£17.03', 'Â£48.80', 'Â£58.14', 'Â£34.20', 'Â£51.48',\n",
       "       'Â£29.87', 'Â£10.90', 'Â£56.37', 'Â£48.35', 'Â£16.73', 'Â£56.48',\n",
       "       'Â£40.79', 'Â£39.72', 'Â£14.58', 'Â£55.51', 'Â£21.80', 'Â£13.33',\n",
       "       'Â£38.73', 'Â£37.86', 'Â£11.53', 'Â£27.06', 'Â£13.86', 'Â£37.55',\n",
       "       'Â£32.30', 'Â£46.29', 'Â£26.20', 'Â£33.26', 'Â£59.15', 'Â£39.43',\n",
       "       'Â£14.44', 'Â£56.54', 'Â£59.90', 'Â£11.88', 'Â£48.05', 'Â£21.21',\n",
       "       'Â£49.67', 'Â£43.14', 'Â£36.97', 'Â£26.80', 'Â£15.71', 'Â£54.65',\n",
       "       'Â£54.36', 'Â£35.28', 'Â£20.55', 'Â£58.32', 'Â£11.84', 'Â£41.46',\n",
       "       'Â£20.10', 'Â£56.86', 'Â£56.51', 'Â£40.83', 'Â£48.64', 'Â£59.48',\n",
       "       'Â£39.01', 'Â£38.77', 'Â£48.39', 'Â£27.26', 'Â£11.68', 'Â£59.45',\n",
       "       'Â£21.00', 'Â£53.98', 'Â£48.74', 'Â£21.15', 'Â£13.71', 'Â£47.67',\n",
       "       'Â£16.89', 'Â£27.18', 'Â£17.28', 'Â£45.14', 'Â£40.85', 'Â£20.46',\n",
       "       'Â£56.27', 'Â£48.49', 'Â£51.34', 'Â£16.34', 'Â£20.50', 'Â£21.59',\n",
       "       'Â£20.88', 'Â£19.53', 'Â£48.48', 'Â£24.57', 'Â£49.71', 'Â£48.27',\n",
       "       'Â£58.05', 'Â£58.87', 'Â£11.82', 'Â£28.03', 'Â£44.05', 'Â£12.34',\n",
       "       'Â£16.68', 'Â£55.91', 'Â£52.98', 'Â£54.40', 'Â£54.81', 'Â£25.08',\n",
       "       'Â£10.41', 'Â£47.44', 'Â£20.91', 'Â£33.95', 'Â£43.68', 'Â£33.23',\n",
       "       'Â£35.92', 'Â£48.63', 'Â£56.63', 'Â£50.49', 'Â£35.79', 'Â£34.06',\n",
       "       'Â£17.76', 'Â£39.36', 'Â£43.62', 'Â£43.02', 'Â£28.45', 'Â£41.39',\n",
       "       'Â£51.15', 'Â£35.88', 'Â£36.91', 'Â£28.93', 'Â£38.89', 'Â£58.33',\n",
       "       'Â£39.67', 'Â£14.10', 'Â£21.82', 'Â£31.19', 'Â£53.64', 'Â£36.39',\n",
       "       'Â£58.54', 'Â£29.48', 'Â£25.06', 'Â£12.55', 'Â£29.04', 'Â£40.72',\n",
       "       'Â£45.05', 'Â£47.13', 'Â£20.22', 'Â£44.21', 'Â£40.45', 'Â£10.29',\n",
       "       'Â£52.86', 'Â£55.65', 'Â£43.64', 'Â£28.41', 'Â£11.45', 'Â£19.22',\n",
       "       'Â£56.91', 'Â£55.06', 'Â£13.20', 'Â£53.63', 'Â£12.08', 'Â£22.14',\n",
       "       'Â£25.37', 'Â£46.33', 'Â£37.33', 'Â£25.55', 'Â£34.72', 'Â£35.96',\n",
       "       'Â£41.14', 'Â£10.01', 'Â£36.05', 'Â£49.03', 'Â£39.55', 'Â£16.62',\n",
       "       'Â£42.78', 'Â£52.30', 'Â£32.34', 'Â£33.17', 'Â£20.12', 'Â£20.90',\n",
       "       'Â£40.20', 'Â£52.87', 'Â£51.74', 'Â£34.41', 'Â£32.38', 'Â£50.35',\n",
       "       'Â£11.38', 'Â£43.58', 'Â£13.22', 'Â£51.17', 'Â£39.61', 'Â£57.43',\n",
       "       'Â£46.01', 'Â£28.25', 'Â£37.05', 'Â£19.57', 'Â£45.13', 'Â£46.64',\n",
       "       'Â£12.16', 'Â£20.89', 'Â£17.97', 'Â£52.60', 'Â£25.77', 'Â£48.19',\n",
       "       'Â£29.93', 'Â£44.34', 'Â£52.40', 'Â£44.81', 'Â£57.84', 'Â£24.80',\n",
       "       'Â£31.58', 'Â£43.27', 'Â£17.80', 'Â£30.54', 'Â£18.77', 'Â£46.85',\n",
       "       'Â£15.79', 'Â£10.27', 'Â£15.42', 'Â£59.92', 'Â£50.96', 'Â£30.60',\n",
       "       'Â£19.27', 'Â£46.58', 'Â£48.51', 'Â£19.02', 'Â£38.38', 'Â£49.98',\n",
       "       'Â£46.49', 'Â£18.32', 'Â£42.14', 'Â£56.59', 'Â£20.96', 'Â£40.32',\n",
       "       'Â£58.55', 'Â£21.30', 'Â£56.88', 'Â£32.97', 'Â£47.31', 'Â£48.67',\n",
       "       'Â£41.73', 'Â£53.68', 'Â£14.64', 'Â£38.40', 'Â£15.08', 'Â£30.57',\n",
       "       'Â£57.74', 'Â£11.05', 'Â£28.58', 'Â£42.91', 'Â£24.73', 'Â£13.76',\n",
       "       'Â£45.56', 'Â£47.22', 'Â£56.00', 'Â£44.58', 'Â£34.50', 'Â£11.33',\n",
       "       'Â£45.51', 'Â£41.81', 'Â£25.15', 'Â£34.22', 'Â£16.23', 'Â£11.48',\n",
       "       'Â£23.37', 'Â£31.63', 'Â£24.91', 'Â£22.54', 'Â£23.63', 'Â£13.12',\n",
       "       'Â£59.98', 'Â£31.49', 'Â£15.52', 'Â£48.13', 'Â£38.13', 'Â£36.55',\n",
       "       'Â£23.32', 'Â£16.33', 'Â£32.42', 'Â£16.96', 'Â£22.37', 'Â£42.27',\n",
       "       'Â£38.70', 'Â£35.63', 'Â£58.00', 'Â£52.41', 'Â£32.35', 'Â£20.75',\n",
       "       'Â£17.49', 'Â£34.13', 'Â£58.81', 'Â£10.00', 'Â£51.22', 'Â£58.59',\n",
       "       'Â£31.30', 'Â£46.42', 'Â£17.21', 'Â£10.79', 'Â£52.35', 'Â£50.26',\n",
       "       'Â£59.99', 'Â£28.32', 'Â£38.71', 'Â£29.85', 'Â£14.82', 'Â£16.81',\n",
       "       'Â£28.23', 'Â£52.11', 'Â£59.71', 'Â£46.08', 'Â£13.73', 'Â£49.45',\n",
       "       'Â£19.67', 'Â£12.36', 'Â£20.02', 'Â£12.75', 'Â£47.51', 'Â£20.44',\n",
       "       'Â£34.79', 'Â£28.07', 'Â£13.90', 'Â£24.17', 'Â£48.75', 'Â£14.74',\n",
       "       'Â£32.49', 'Â£27.80', 'Â£26.77', 'Â£50.44', 'Â£34.93', 'Â£12.87',\n",
       "       'Â£48.94', 'Â£13.38', 'Â£58.63', 'Â£21.94', 'Â£26.58', 'Â£57.22',\n",
       "       'Â£56.43', 'Â£27.62', 'Â£49.56', 'Â£34.77', 'Â£17.73', 'Â£18.13',\n",
       "       'Â£30.89', 'Â£31.95', 'Â£24.04', 'Â£32.36', 'Â£21.07', 'Â£50.66',\n",
       "       'Â£13.66', 'Â£58.09', 'Â£30.00', 'Â£32.74', 'Â£41.93', 'Â£42.80',\n",
       "       'Â£53.51', 'Â£23.21', 'Â£21.14', 'Â£56.07', 'Â£14.41', 'Â£45.75',\n",
       "       'Â£10.02', 'Â£48.77', 'Â£57.86', 'Â£23.59', 'Â£23.05', 'Â£55.55',\n",
       "       'Â£58.64', 'Â£42.57', 'Â£10.92', 'Â£35.66', 'Â£37.19', 'Â£12.25',\n",
       "       'Â£29.70', 'Â£36.80', 'Â£45.43', 'Â£26.26', 'Â£44.92', 'Â£52.53',\n",
       "       'Â£37.25', 'Â£20.93', 'Â£43.59', 'Â£33.92', 'Â£29.64', 'Â£27.41',\n",
       "       'Â£52.51', 'Â£47.80', 'Â£14.54', 'Â£49.53', 'Â£12.30', 'Â£49.47',\n",
       "       'Â£57.48', 'Â£43.45', 'Â£13.03', 'Â£57.35', 'Â£44.29', 'Â£52.25',\n",
       "       'Â£26.33', 'Â£22.96', 'Â£19.21', 'Â£26.78', 'Â£41.32', 'Â£24.55',\n",
       "       'Â£16.26', 'Â£47.84', 'Â£53.49', 'Â£44.84', 'Â£53.71', 'Â£23.43',\n",
       "       'Â£34.32', 'Â£22.10', 'Â£25.83', 'Â£36.74', 'Â£49.51', 'Â£48.96',\n",
       "       'Â£54.62', 'Â£24.72', 'Â£46.45', 'Â£52.33', 'Â£14.57', 'Â£21.57',\n",
       "       'Â£12.91', 'Â£50.11', 'Â£41.67', 'Â£44.88', 'Â£11.10', 'Â£28.54',\n",
       "       'Â£19.07', 'Â£43.63', 'Â£39.13', 'Â£56.68', 'Â£14.16', 'Â£31.45',\n",
       "       'Â£24.61', 'Â£32.87', 'Â£40.17', 'Â£13.51', 'Â£38.95', 'Â£31.69',\n",
       "       'Â£29.40', 'Â£57.83', 'Â£55.46', 'Â£57.60', 'Â£34.98', 'Â£11.87',\n",
       "       'Â£12.47', 'Â£59.04', 'Â£26.13', 'Â£22.20', 'Â£45.11', 'Â£43.69',\n",
       "       'Â£55.50', 'Â£53.04', 'Â£44.97', 'Â£42.38', 'Â£20.11', 'Â£56.70',\n",
       "       'Â£41.00', 'Â£28.85', 'Â£49.97', 'Â£19.69', 'Â£28.88', 'Â£43.70',\n",
       "       'Â£54.89', 'Â£37.52', 'Â£51.07', 'Â£42.72', 'Â£26.66', 'Â£42.21',\n",
       "       'Â£46.83', 'Â£21.28', 'Â£15.36', 'Â£38.62', 'Â£25.40', 'Â£43.87',\n",
       "       'Â£18.74', 'Â£54.86', 'Â£52.62', 'Â£15.28', 'Â£17.81', 'Â£23.90',\n",
       "       'Â£49.13', 'Â£10.62', 'Â£36.17', 'Â£59.95', 'Â£26.09', 'Â£37.35',\n",
       "       'Â£51.32', 'Â£21.12', 'Â£27.35', 'Â£21.74', 'Â£40.87', 'Â£49.31',\n",
       "       'Â£20.79', 'Â£38.35', 'Â£21.55', 'Â£38.02', 'Â£22.06', 'Â£10.66',\n",
       "       'Â£56.58', 'Â£36.83', 'Â£35.01', 'Â£30.48', 'Â£14.08', 'Â£31.22',\n",
       "       'Â£54.29', 'Â£31.04', 'Â£31.38', 'Â£16.78', 'Â£24.42', 'Â£11.75',\n",
       "       'Â£12.86', 'Â£34.00', 'Â£57.42', 'Â£53.47', 'Â£11.64', 'Â£52.88',\n",
       "       'Â£18.51', 'Â£39.77', 'Â£51.96', 'Â£39.51', 'Â£15.40', 'Â£53.82',\n",
       "       'Â£30.95', 'Â£57.82', 'Â£48.71', 'Â£36.52', 'Â£43.19', 'Â£36.25',\n",
       "       'Â£29.45', 'Â£34.56', 'Â£54.12', 'Â£33.78', 'Â£57.70', 'Â£36.34',\n",
       "       'Â£50.59', 'Â£29.38', 'Â£45.42', 'Â£54.43', 'Â£36.26', 'Â£16.16',\n",
       "       'Â£36.29', 'Â£27.89', 'Â£12.29', 'Â£15.85', 'Â£14.40', 'Â£19.18',\n",
       "       'Â£10.64', 'Â£14.76', 'Â£57.49', 'Â£30.66', 'Â£18.88', 'Â£42.12',\n",
       "       'Â£42.40', 'Â£58.35', 'Â£21.72', 'Â£44.91', 'Â£37.46', 'Â£28.48',\n",
       "       'Â£28.34', 'Â£46.96', 'Â£24.96', 'Â£21.71', 'Â£28.99', 'Â£52.94',\n",
       "       'Â£55.66', 'Â£39.45', 'Â£47.11', 'Â£58.75', 'Â£38.92', 'Â£39.39',\n",
       "       'Â£25.89', 'Â£27.70', 'Â£24.89', 'Â£58.99', 'Â£57.20', 'Â£38.43',\n",
       "       'Â£34.74', 'Â£40.44', 'Â£45.24', 'Â£34.96', 'Â£40.28', 'Â£38.00',\n",
       "       'Â£28.80', 'Â£32.93', 'Â£47.09', 'Â£28.42', 'Â£22.85', 'Â£41.24',\n",
       "       'Â£39.07', 'Â£29.82', 'Â£37.26', 'Â£20.30', 'Â£34.65', 'Â£43.38',\n",
       "       'Â£57.06', 'Â£16.97', 'Â£26.08'], dtype=object)"
      ]
     },
     "execution_count": 61,
     "metadata": {},
     "output_type": "execute_result"
    }
   ],
   "source": [
    "df['Price'].unique()"
   ]
  },
  {
   "cell_type": "code",
   "execution_count": 62,
   "metadata": {},
   "outputs": [
    {
     "data": {
      "text/plain": [
       "51.77"
      ]
     },
     "execution_count": 62,
     "metadata": {},
     "output_type": "execute_result"
    }
   ],
   "source": [
    "import re\n",
    "def prices(x):\n",
    "    price=re.findall(r'\\d{2}\\.\\d{2}',x)\n",
    "    return float(price[0])\n",
    "prices('Â£51.77')"
   ]
  },
  {
   "cell_type": "code",
   "execution_count": 63,
   "metadata": {},
   "outputs": [],
   "source": [
    "df['Price']=df['Price'].apply(prices)"
   ]
  },
  {
   "cell_type": "code",
   "execution_count": 64,
   "metadata": {},
   "outputs": [
    {
     "data": {
      "text/plain": [
       "array([51.77, 53.74, 50.1 , 47.82, 54.23, 22.65, 33.34, 17.93, 22.6 ,\n",
       "       52.15, 13.99, 20.66, 17.46, 52.29, 35.02, 57.25, 23.88, 37.59,\n",
       "       51.33, 45.17, 12.84, 37.32, 30.52, 25.27, 34.53, 54.64, 22.5 ,\n",
       "       53.13, 40.3 , 44.18, 17.66, 31.05, 23.82, 36.89, 15.94, 33.29,\n",
       "       18.02, 19.63, 52.22, 33.63, 57.31, 26.41, 47.61, 23.11, 45.07,\n",
       "       31.77, 50.27, 14.27, 18.78, 25.52, 16.28, 31.12, 19.49, 17.27,\n",
       "       19.09, 56.13, 56.41, 56.5 , 45.22, 38.16, 54.11, 42.96, 23.89,\n",
       "       16.77, 20.59, 37.13, 56.06, 58.11, 49.05, 40.76, 19.73, 32.24,\n",
       "       41.83, 39.58, 39.25, 25.02, 51.04, 19.83, 50.4 , 13.61, 13.34,\n",
       "       18.97, 36.28, 10.16, 15.44, 48.41, 46.35, 14.07, 14.86, 33.37,\n",
       "       56.4 , 14.02, 46.91, 45.61, 19.92, 40.11, 53.9 , 35.67, 22.  ,\n",
       "       57.36, 29.17, 54.63, 46.03, 33.97, 22.11, 29.69, 15.97, 21.96,\n",
       "       54.35, 37.97, 51.99, 43.29, 36.72, 17.08, 29.14, 28.81, 49.46,\n",
       "       37.92, 28.09, 30.81, 42.95, 56.76, 16.64, 55.53, 28.13, 52.37,\n",
       "       54.  , 21.87, 43.3 , 21.04, 41.6 , 35.07, 59.64, 52.72, 58.08,\n",
       "       24.12, 42.15, 12.61, 17.44, 33.14, 27.37, 51.36, 36.  , 10.65,\n",
       "       43.54, 38.21, 37.34, 44.1 , 55.85, 37.6 , 10.97, 41.82, 36.95,\n",
       "       44.28, 55.02, 17.24, 23.15, 41.25, 32.  , 38.49, 10.93, 27.55,\n",
       "       55.99, 16.24, 26.12, 12.23, 23.99, 29.06, 20.27, 43.55, 36.94,\n",
       "       20.47, 41.06, 14.19, 38.28, 41.05, 30.25, 28.26, 10.76, 16.85,\n",
       "       13.47, 48.56, 19.15, 42.98, 22.16, 49.43, 29.99, 21.36, 29.  ,\n",
       "       53.53, 41.62, 54.59, 34.95, 37.72, 35.61, 42.16, 19.19, 19.43,\n",
       "       37.8 , 30.8 , 27.43, 11.11, 36.5 , 15.38, 15.48, 46.82, 18.46,\n",
       "       36.58, 50.54, 12.51, 24.7 , 43.61, 14.36, 52.65, 38.2 , 19.6 ,\n",
       "       12.96, 37.1 , 46.31, 45.95, 22.08, 25.38, 27.12, 43.04, 56.8 ,\n",
       "       25.91, 32.61, 27.88, 52.67, 46.02, 44.48, 37.4 , 54.04, 16.88,\n",
       "       28.08, 10.4 , 44.07, 23.4 , 17.43, 54.21, 40.67, 52.26, 28.77,\n",
       "       13.82, 25.85, 48.78, 35.35, 44.73, 15.77, 39.24, 13.92, 10.69,\n",
       "       45.21, 45.58, 11.89, 39.5 , 44.74, 52.79, 35.43, 55.84, 48.87,\n",
       "       46.78, 25.48, 23.57, 50.89, 10.56, 18.28, 11.83, 21.95, 38.39,\n",
       "       41.56, 24.48, 40.36, 28.9 , 37.61, 38.85, 53.95, 49.83, 51.51,\n",
       "       18.03, 26.79, 19.55, 29.65, 25.98, 10.6 , 14.75, 47.02, 28.82,\n",
       "       58.79, 10.23, 30.03, 45.84, 15.06, 46.47, 27.09, 57.62, 14.39,\n",
       "       51.75, 54.07, 55.35, 40.12, 37.51, 11.21, 47.72, 25.01, 22.13,\n",
       "       44.14, 56.02, 11.23, 43.28, 47.27, 20.29, 50.83, 31.85, 46.23,\n",
       "       49.32, 32.01, 28.01, 50.62, 17.03, 48.8 , 58.14, 34.2 , 51.48,\n",
       "       29.87, 10.9 , 56.37, 48.35, 16.73, 56.48, 40.79, 39.72, 14.58,\n",
       "       55.51, 21.8 , 13.33, 38.73, 37.86, 11.53, 27.06, 13.86, 37.55,\n",
       "       32.3 , 46.29, 26.2 , 33.26, 59.15, 39.43, 14.44, 56.54, 59.9 ,\n",
       "       11.88, 48.05, 21.21, 49.67, 43.14, 36.97, 26.8 , 15.71, 54.65,\n",
       "       54.36, 35.28, 20.55, 58.32, 11.84, 41.46, 20.1 , 56.86, 56.51,\n",
       "       40.83, 48.64, 59.48, 39.01, 38.77, 48.39, 27.26, 11.68, 59.45,\n",
       "       21.  , 53.98, 48.74, 21.15, 13.71, 47.67, 16.89, 27.18, 17.28,\n",
       "       45.14, 40.85, 20.46, 56.27, 48.49, 51.34, 16.34, 20.5 , 21.59,\n",
       "       20.88, 19.53, 48.48, 24.57, 49.71, 48.27, 58.05, 58.87, 11.82,\n",
       "       28.03, 44.05, 12.34, 16.68, 55.91, 52.98, 54.4 , 54.81, 25.08,\n",
       "       10.41, 47.44, 20.91, 33.95, 43.68, 33.23, 35.92, 48.63, 56.63,\n",
       "       50.49, 35.79, 34.06, 17.76, 39.36, 43.62, 43.02, 28.45, 41.39,\n",
       "       51.15, 35.88, 36.91, 28.93, 38.89, 58.33, 39.67, 14.1 , 21.82,\n",
       "       31.19, 53.64, 36.39, 58.54, 29.48, 25.06, 12.55, 29.04, 40.72,\n",
       "       45.05, 47.13, 20.22, 44.21, 40.45, 10.29, 52.86, 55.65, 43.64,\n",
       "       28.41, 11.45, 19.22, 56.91, 55.06, 13.2 , 53.63, 12.08, 22.14,\n",
       "       25.37, 46.33, 37.33, 25.55, 34.72, 35.96, 41.14, 10.01, 36.05,\n",
       "       49.03, 39.55, 16.62, 42.78, 52.3 , 32.34, 33.17, 20.12, 20.9 ,\n",
       "       40.2 , 52.87, 51.74, 34.41, 32.38, 50.35, 11.38, 43.58, 13.22,\n",
       "       51.17, 39.61, 57.43, 46.01, 28.25, 37.05, 19.57, 45.13, 46.64,\n",
       "       12.16, 20.89, 17.97, 52.6 , 25.77, 48.19, 29.93, 44.34, 52.4 ,\n",
       "       44.81, 57.84, 24.8 , 31.58, 43.27, 17.8 , 30.54, 18.77, 46.85,\n",
       "       15.79, 10.27, 15.42, 59.92, 50.96, 30.6 , 19.27, 46.58, 48.51,\n",
       "       19.02, 38.38, 49.98, 46.49, 18.32, 42.14, 56.59, 20.96, 40.32,\n",
       "       58.55, 21.3 , 56.88, 32.97, 47.31, 48.67, 41.73, 53.68, 14.64,\n",
       "       38.4 , 15.08, 30.57, 57.74, 11.05, 28.58, 42.91, 24.73, 13.76,\n",
       "       45.56, 47.22, 56.  , 44.58, 34.5 , 11.33, 45.51, 41.81, 25.15,\n",
       "       34.22, 16.23, 11.48, 23.37, 31.63, 24.91, 22.54, 23.63, 13.12,\n",
       "       59.98, 31.49, 15.52, 48.13, 38.13, 36.55, 23.32, 16.33, 32.42,\n",
       "       16.96, 22.37, 42.27, 38.7 , 35.63, 58.  , 52.41, 32.35, 20.75,\n",
       "       17.49, 34.13, 58.81, 10.  , 51.22, 58.59, 31.3 , 46.42, 17.21,\n",
       "       10.79, 52.35, 50.26, 59.99, 28.32, 38.71, 29.85, 14.82, 16.81,\n",
       "       28.23, 52.11, 59.71, 46.08, 13.73, 49.45, 19.67, 12.36, 20.02,\n",
       "       12.75, 47.51, 20.44, 34.79, 28.07, 13.9 , 24.17, 48.75, 14.74,\n",
       "       32.49, 27.8 , 26.77, 50.44, 34.93, 12.87, 48.94, 13.38, 58.63,\n",
       "       21.94, 26.58, 57.22, 56.43, 27.62, 49.56, 34.77, 17.73, 18.13,\n",
       "       30.89, 31.95, 24.04, 32.36, 21.07, 50.66, 13.66, 58.09, 30.  ,\n",
       "       32.74, 41.93, 42.8 , 53.51, 23.21, 21.14, 56.07, 14.41, 45.75,\n",
       "       10.02, 48.77, 57.86, 23.59, 23.05, 55.55, 58.64, 42.57, 10.92,\n",
       "       35.66, 37.19, 12.25, 29.7 , 36.8 , 45.43, 26.26, 44.92, 52.53,\n",
       "       37.25, 20.93, 43.59, 33.92, 29.64, 27.41, 52.51, 47.8 , 14.54,\n",
       "       49.53, 12.3 , 49.47, 57.48, 43.45, 13.03, 57.35, 44.29, 52.25,\n",
       "       26.33, 22.96, 19.21, 26.78, 41.32, 24.55, 16.26, 47.84, 53.49,\n",
       "       44.84, 53.71, 23.43, 34.32, 22.1 , 25.83, 36.74, 49.51, 48.96,\n",
       "       54.62, 24.72, 46.45, 52.33, 14.57, 21.57, 12.91, 50.11, 41.67,\n",
       "       44.88, 11.1 , 28.54, 19.07, 43.63, 39.13, 56.68, 14.16, 31.45,\n",
       "       24.61, 32.87, 40.17, 13.51, 38.95, 31.69, 29.4 , 57.83, 55.46,\n",
       "       57.6 , 34.98, 11.87, 12.47, 59.04, 26.13, 22.2 , 45.11, 43.69,\n",
       "       55.5 , 53.04, 44.97, 42.38, 20.11, 56.7 , 41.  , 28.85, 49.97,\n",
       "       19.69, 28.88, 43.7 , 54.89, 37.52, 51.07, 42.72, 26.66, 42.21,\n",
       "       46.83, 21.28, 15.36, 38.62, 25.4 , 43.87, 18.74, 54.86, 52.62,\n",
       "       15.28, 17.81, 23.9 , 49.13, 10.62, 36.17, 59.95, 26.09, 37.35,\n",
       "       51.32, 21.12, 27.35, 21.74, 40.87, 49.31, 20.79, 38.35, 21.55,\n",
       "       38.02, 22.06, 10.66, 56.58, 36.83, 35.01, 30.48, 14.08, 31.22,\n",
       "       54.29, 31.04, 31.38, 16.78, 24.42, 11.75, 12.86, 34.  , 57.42,\n",
       "       53.47, 11.64, 52.88, 18.51, 39.77, 51.96, 39.51, 15.4 , 53.82,\n",
       "       30.95, 57.82, 48.71, 36.52, 43.19, 36.25, 29.45, 34.56, 54.12,\n",
       "       33.78, 57.7 , 36.34, 50.59, 29.38, 45.42, 54.43, 36.26, 16.16,\n",
       "       36.29, 27.89, 12.29, 15.85, 14.4 , 19.18, 10.64, 14.76, 57.49,\n",
       "       30.66, 18.88, 42.12, 42.4 , 58.35, 21.72, 44.91, 37.46, 28.48,\n",
       "       28.34, 46.96, 24.96, 21.71, 28.99, 52.94, 55.66, 39.45, 47.11,\n",
       "       58.75, 38.92, 39.39, 25.89, 27.7 , 24.89, 58.99, 57.2 , 38.43,\n",
       "       34.74, 40.44, 45.24, 34.96, 40.28, 38.  , 28.8 , 32.93, 47.09,\n",
       "       28.42, 22.85, 41.24, 39.07, 29.82, 37.26, 20.3 , 34.65, 43.38,\n",
       "       57.06, 16.97, 26.08])"
      ]
     },
     "execution_count": 64,
     "metadata": {},
     "output_type": "execute_result"
    }
   ],
   "source": [
    "df['Price'].unique()"
   ]
  },
  {
   "cell_type": "code",
   "execution_count": 65,
   "metadata": {},
   "outputs": [
    {
     "data": {
      "text/html": [
       "<div>\n",
       "<style scoped>\n",
       "    .dataframe tbody tr th:only-of-type {\n",
       "        vertical-align: middle;\n",
       "    }\n",
       "\n",
       "    .dataframe tbody tr th {\n",
       "        vertical-align: top;\n",
       "    }\n",
       "\n",
       "    .dataframe thead th {\n",
       "        text-align: right;\n",
       "    }\n",
       "</style>\n",
       "<table border=\"1\" class=\"dataframe\">\n",
       "  <thead>\n",
       "    <tr style=\"text-align: right;\">\n",
       "      <th></th>\n",
       "      <th>Title</th>\n",
       "      <th>Rating</th>\n",
       "      <th>Price</th>\n",
       "      <th>Stock</th>\n",
       "    </tr>\n",
       "  </thead>\n",
       "  <tbody>\n",
       "    <tr>\n",
       "      <th>0</th>\n",
       "      <td>A Light in the ...</td>\n",
       "      <td>3</td>\n",
       "      <td>51.77</td>\n",
       "      <td>1</td>\n",
       "    </tr>\n",
       "    <tr>\n",
       "      <th>1</th>\n",
       "      <td>Tipping the Velvet</td>\n",
       "      <td>1</td>\n",
       "      <td>53.74</td>\n",
       "      <td>0</td>\n",
       "    </tr>\n",
       "    <tr>\n",
       "      <th>2</th>\n",
       "      <td>Soumission</td>\n",
       "      <td>1</td>\n",
       "      <td>50.10</td>\n",
       "      <td>0</td>\n",
       "    </tr>\n",
       "    <tr>\n",
       "      <th>3</th>\n",
       "      <td>Sharp Objects</td>\n",
       "      <td>4</td>\n",
       "      <td>47.82</td>\n",
       "      <td>0</td>\n",
       "    </tr>\n",
       "    <tr>\n",
       "      <th>4</th>\n",
       "      <td>Sapiens: A Brief History ...</td>\n",
       "      <td>5</td>\n",
       "      <td>54.23</td>\n",
       "      <td>0</td>\n",
       "    </tr>\n",
       "  </tbody>\n",
       "</table>\n",
       "</div>"
      ],
      "text/plain": [
       "                          Title  Rating  Price  Stock\n",
       "0            A Light in the ...       3  51.77      1\n",
       "1            Tipping the Velvet       1  53.74      0\n",
       "2                    Soumission       1  50.10      0\n",
       "3                 Sharp Objects       4  47.82      0\n",
       "4  Sapiens: A Brief History ...       5  54.23      0"
      ]
     },
     "execution_count": 65,
     "metadata": {},
     "output_type": "execute_result"
    }
   ],
   "source": [
    "df.head()"
   ]
  },
  {
   "cell_type": "code",
   "execution_count": 66,
   "metadata": {},
   "outputs": [
    {
     "data": {
      "text/plain": [
       "<seaborn.axisgrid.FacetGrid at 0x2174bf4bd30>"
      ]
     },
     "execution_count": 66,
     "metadata": {},
     "output_type": "execute_result"
    },
    {
     "data": {
      "image/png": "[encoded data removed]",
      "text/plain": [
       "<Figure size 402.375x360 with 1 Axes>"
      ]
     },
     "metadata": {
      "needs_background": "light"
     },
     "output_type": "display_data"
    }
   ],
   "source": [
    "sb.displot(df,x='Price',hue='Rating',multiple='dodge')"
   ]
  },
  {
   "cell_type": "code",
   "execution_count": 67,
   "metadata": {},
   "outputs": [
    {
     "data": {
      "text/html": [
       "<div>\n",
       "<style scoped>\n",
       "    .dataframe tbody tr th:only-of-type {\n",
       "        vertical-align: middle;\n",
       "    }\n",
       "\n",
       "    .dataframe tbody tr th {\n",
       "        vertical-align: top;\n",
       "    }\n",
       "\n",
       "    .dataframe thead th {\n",
       "        text-align: right;\n",
       "    }\n",
       "</style>\n",
       "<table border=\"1\" class=\"dataframe\">\n",
       "  <thead>\n",
       "    <tr style=\"text-align: right;\">\n",
       "      <th></th>\n",
       "      <th>Rating</th>\n",
       "      <th>Price</th>\n",
       "      <th>Stock</th>\n",
       "    </tr>\n",
       "  </thead>\n",
       "  <tbody>\n",
       "    <tr>\n",
       "      <th>count</th>\n",
       "      <td>1000.000000</td>\n",
       "      <td>1000.00000</td>\n",
       "      <td>1000.000000</td>\n",
       "    </tr>\n",
       "    <tr>\n",
       "      <th>mean</th>\n",
       "      <td>2.923000</td>\n",
       "      <td>35.07035</td>\n",
       "      <td>0.515000</td>\n",
       "    </tr>\n",
       "    <tr>\n",
       "      <th>std</th>\n",
       "      <td>1.434967</td>\n",
       "      <td>14.44669</td>\n",
       "      <td>0.500025</td>\n",
       "    </tr>\n",
       "    <tr>\n",
       "      <th>min</th>\n",
       "      <td>1.000000</td>\n",
       "      <td>10.00000</td>\n",
       "      <td>0.000000</td>\n",
       "    </tr>\n",
       "    <tr>\n",
       "      <th>25%</th>\n",
       "      <td>2.000000</td>\n",
       "      <td>22.10750</td>\n",
       "      <td>0.000000</td>\n",
       "    </tr>\n",
       "    <tr>\n",
       "      <th>50%</th>\n",
       "      <td>3.000000</td>\n",
       "      <td>35.98000</td>\n",
       "      <td>1.000000</td>\n",
       "    </tr>\n",
       "    <tr>\n",
       "      <th>75%</th>\n",
       "      <td>4.000000</td>\n",
       "      <td>47.45750</td>\n",
       "      <td>1.000000</td>\n",
       "    </tr>\n",
       "    <tr>\n",
       "      <th>max</th>\n",
       "      <td>5.000000</td>\n",
       "      <td>59.99000</td>\n",
       "      <td>1.000000</td>\n",
       "    </tr>\n",
       "  </tbody>\n",
       "</table>\n",
       "</div>"
      ],
      "text/plain": [
       "            Rating       Price        Stock\n",
       "count  1000.000000  1000.00000  1000.000000\n",
       "mean      2.923000    35.07035     0.515000\n",
       "std       1.434967    14.44669     0.500025\n",
       "min       1.000000    10.00000     0.000000\n",
       "25%       2.000000    22.10750     0.000000\n",
       "50%       3.000000    35.98000     1.000000\n",
       "75%       4.000000    47.45750     1.000000\n",
       "max       5.000000    59.99000     1.000000"
      ]
     },
     "execution_count": 67,
     "metadata": {},
     "output_type": "execute_result"
    }
   ],
   "source": [
    "df.describe()"
   ]
  },
  {
   "cell_type": "code",
   "execution_count": 68,
   "metadata": {},
   "outputs": [
    {
     "data": {
      "text/plain": [
       "1    226\n",
       "3    203\n",
       "5    196\n",
       "2    196\n",
       "4    179\n",
       "Name: Rating, dtype: int64"
      ]
     },
     "execution_count": 68,
     "metadata": {},
     "output_type": "execute_result"
    }
   ],
   "source": [
    "df['Rating'].value_counts()"
   ]
  },
  {
   "cell_type": "code",
   "execution_count": 69,
   "metadata": {},
   "outputs": [
    {
     "data": {
      "text/plain": [
       "<seaborn.axisgrid.FacetGrid at 0x2174bd1f490>"
      ]
     },
     "execution_count": 69,
     "metadata": {},
     "output_type": "execute_result"
    },
    {
     "data": {
      "image/png": "[encoded data removed]",
      "text/plain": [
       "<Figure size 360x360 with 1 Axes>"
      ]
     },
     "metadata": {
      "needs_background": "light"
     },
     "output_type": "display_data"
    }
   ],
   "source": [
    "sb.relplot(data=df,x='Rating',y='Price')"
   ]
  },
  {
   "cell_type": "code",
   "execution_count": 70,
   "metadata": {},
   "outputs": [
    {
     "data": {
      "text/html": [
       "<div>\n",
       "<style scoped>\n",
       "    .dataframe tbody tr th:only-of-type {\n",
       "        vertical-align: middle;\n",
       "    }\n",
       "\n",
       "    .dataframe tbody tr th {\n",
       "        vertical-align: top;\n",
       "    }\n",
       "\n",
       "    .dataframe thead th {\n",
       "        text-align: right;\n",
       "    }\n",
       "</style>\n",
       "<table border=\"1\" class=\"dataframe\">\n",
       "  <thead>\n",
       "    <tr style=\"text-align: right;\">\n",
       "      <th></th>\n",
       "      <th>Title</th>\n",
       "      <th>Rating</th>\n",
       "      <th>Price</th>\n",
       "      <th>Stock</th>\n",
       "    </tr>\n",
       "  </thead>\n",
       "  <tbody>\n",
       "    <tr>\n",
       "      <th>9</th>\n",
       "      <td>The Black Maria</td>\n",
       "      <td>1</td>\n",
       "      <td>52.15</td>\n",
       "      <td>0</td>\n",
       "    </tr>\n",
       "  </tbody>\n",
       "</table>\n",
       "</div>"
      ],
      "text/plain": [
       "             Title  Rating  Price  Stock\n",
       "9  The Black Maria       1  52.15      0"
      ]
     },
     "execution_count": 70,
     "metadata": {},
     "output_type": "execute_result"
    }
   ],
   "source": [
    "df[df['Title']=='The Black Maria']"
   ]
  },
  {
   "cell_type": "code",
   "execution_count": null,
   "metadata": {},
   "outputs": [],
   "source": []
  }
 ],
 "metadata": {
  "kernelspec": {
   "display_name": "Python 3",
   "language": "python",
   "name": "python3"
  },
  "language_info": {
   "codemirror_mode": {
    "name": "ipython",
    "version": 3
   },
   "file_extension": ".py",
   "mimetype": "text/x-python",
   "name": "python",
   "nbconvert_exporter": "python",
   "pygments_lexer": "ipython3",
   "version": "3.8.5"
  }
 },
 "nbformat": 4,
 "nbformat_minor": 4
}
