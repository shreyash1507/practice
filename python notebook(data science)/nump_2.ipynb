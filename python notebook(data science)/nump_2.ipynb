{
 "cells": [
  {
   "cell_type": "code",
   "execution_count": 5,
   "metadata": {},
   "outputs": [
    {
     "data": {
      "text/plain": [
       "array([[ 5,  7,  9, 12, 14],\n",
       "       [16, 19, 21, 23, 26],\n",
       "       [28, 31, 33, 35, 38],\n",
       "       [40, 42, 45, 47, 50]])"
      ]
     },
     "execution_count": 5,
     "metadata": {},
     "output_type": "execute_result"
    }
   ],
   "source": [
    "#used to give the linear spacing between the numbers\n",
    "import numpy as np\n",
    "numbers = np.linspace(5, 50, 20, dtype=int).reshape(4, -1)\n",
    "numbers"
   ]
  },
  {
   "cell_type": "code",
   "execution_count": 10,
   "metadata": {},
   "outputs": [
    {
     "data": {
      "text/plain": [
       "array([[False, False, False,  True, False],\n",
       "       [ True, False, False, False, False],\n",
       "       [ True, False, False, False, False],\n",
       "       [ True, False, False, False, False]])"
      ]
     },
     "execution_count": 10,
     "metadata": {},
     "output_type": "execute_result"
    }
   ],
   "source": [
    "# conditional array \n",
    "mask = numbers % 4 == 0\n",
    "mask"
   ]
  },
  {
   "cell_type": "code",
   "execution_count": 11,
   "metadata": {},
   "outputs": [
    {
     "data": {
      "text/plain": [
       "array([12, 16, 28, 40])"
      ]
     },
     "execution_count": 11,
     "metadata": {},
     "output_type": "execute_result"
    }
   ],
   "source": [
    "#print true values\n",
    "numbers[mask]"
   ]
  },
  {
   "cell_type": "code",
   "execution_count": 13,
   "metadata": {},
   "outputs": [
    {
     "data": {
      "text/plain": [
       "20"
      ]
     },
     "execution_count": 13,
     "metadata": {},
     "output_type": "execute_result"
    }
   ],
   "source": [
    "numbers.size"
   ]
  },
  {
   "cell_type": "code",
   "execution_count": 16,
   "metadata": {},
   "outputs": [
    {
     "name": "stdout",
     "output_type": "stream",
     "text": [
      "<numpy.vectorize object at 0x0000022EF59A23D0>\n",
      "Actual: 20.085536923187664\n",
      "N (terms)\tMaclaurin\tError\n",
      "[0]\n",
      "1\t\t1.000\t\t19.086\n",
      "[0 1]\n",
      "2\t\t4.000\t\t16.086\n",
      "[0 1 2]\n",
      "3\t\t8.500\t\t11.586\n",
      "[0 1 2 3]\n",
      "4\t\t13.000\t\t7.086\n",
      "[0 1 2 3 4]\n",
      "5\t\t16.375\t\t3.711\n",
      "[0 1 2 3 4 5]\n",
      "6\t\t18.400\t\t1.686\n",
      "[0 1 2 3 4 5 6]\n",
      "7\t\t19.412\t\t0.673\n",
      "[0 1 2 3 4 5 6 7]\n",
      "8\t\t19.846\t\t0.239\n",
      "[0 1 2 3 4 5 6 7 8]\n",
      "9\t\t20.009\t\t0.076\n",
      "[0 1 2 3 4 5 6 7 8 9]\n",
      "10\t\t20.063\t\t0.022\n",
      "[ 0  1  2  3  4  5  6  7  8  9 10]\n",
      "11\t\t20.080\t\t0.006\n",
      "[ 0  1  2  3  4  5  6  7  8  9 10 11]\n",
      "12\t\t20.084\t\t0.001\n",
      "[ 0  1  2  3  4  5  6  7  8  9 10 11 12]\n",
      "13\t\t20.085\t\t0.000\n"
     ]
    }
   ],
   "source": [
    "#maclauren series\n",
    "from math import e, factorial\n",
    "\n",
    "import numpy as np\n",
    "\n",
    "fac = np.vectorize(factorial)\n",
    "\n",
    "def e_x(x, terms=10):\n",
    "    \"\"\"Approximates e^x using a given number of terms of\n",
    "    the Maclaurin series\n",
    "    \"\"\"\n",
    "    n = np.arange(terms)\n",
    "    print(n)\n",
    "    return np.sum((x ** n) / fac(n))\n",
    "\n",
    "if __name__ == \"__main__\":\n",
    "    print(\"Actual:\", e ** 3)  # Using e from the standard library\n",
    "\n",
    "    print(\"N (terms)\\tMaclaurin\\tError\")\n",
    "\n",
    "    for n in range(1, 14):\n",
    "        maclaurin = e_x(3, terms=n)\n",
    "        print(f\"{n}\\t\\t{maclaurin:.03f}\\t\\t{e**3 - maclaurin:.03f}\")"
   ]
  },
  {
   "cell_type": "code",
   "execution_count": 26,
   "metadata": {},
   "outputs": [
    {
     "data": {
      "text/plain": [
       "('joe', 32, 6)"
      ]
     },
     "execution_count": 26,
     "metadata": {},
     "output_type": "execute_result"
    }
   ],
   "source": [
    "#structered array\n",
    "data = np.array([\n",
    "     (\"joe\", 32, 6),\n",
    "     (\"mary\", 15, 20),\n",
    "     (\"felipe\", 80, 100),\n",
    "     (\"beyonce\", 38, 9001),\n",
    "], dtype=[(\"name\", str, 10), (\"age\", int), (\"power\", int)])\n",
    "data[0]"
   ]
  },
  {
   "cell_type": "code",
   "execution_count": 28,
   "metadata": {},
   "outputs": [
    {
     "data": {
      "text/plain": [
       "array(['joe', 'mary', 'felipe', 'beyonce'], dtype='<U10')"
      ]
     },
     "execution_count": 28,
     "metadata": {},
     "output_type": "execute_result"
    }
   ],
   "source": [
    "data[\"name\"]"
   ]
  },
  {
   "cell_type": "code",
   "execution_count": 29,
   "metadata": {},
   "outputs": [
    {
     "data": {
      "text/plain": [
       "array(['beyonce'], dtype='<U10')"
      ]
     },
     "execution_count": 29,
     "metadata": {},
     "output_type": "execute_result"
    }
   ],
   "source": [
    "data[data[\"power\"] > 9000][\"name\"]"
   ]
  },
  {
   "cell_type": "code",
   "execution_count": null,
   "metadata": {},
   "outputs": [],
   "source": []
  },
  {
   "cell_type": "code",
   "execution_count": null,
   "metadata": {},
   "outputs": [],
   "source": []
  },
  {
   "cell_type": "code",
   "execution_count": null,
   "metadata": {},
   "outputs": [],
   "source": []
  }
 ],
 "metadata": {
  "kernelspec": {
   "display_name": "Python 3",
   "language": "python",
   "name": "python3"
  },
  "language_info": {
   "codemirror_mode": {
    "name": "ipython",
    "version": 3
   },
   "file_extension": ".py",
   "mimetype": "text/x-python",
   "name": "python",
   "nbconvert_exporter": "python",
   "pygments_lexer": "ipython3",
   "version": "3.8.5"
  }
 },
 "nbformat": 4,
 "nbformat_minor": 4
}
