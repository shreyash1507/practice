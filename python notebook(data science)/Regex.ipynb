{
 "cells": [
  {
   "cell_type": "code",
   "execution_count": 101,
   "metadata": {},
   "outputs": [
    {
     "name": "stdout",
     "output_type": "stream",
     "text": [
      "['shreyash.157@gmail.com', 'manasvi2@gmail.com', 'ginny8@gmail.com', 'nidhi@gmail.com', 'nama.58@yahoo.com', 'harsh_@outlook.com', 'sharru@gmail.com', 'siri@gmail.com']\n"
     ]
    }
   ],
   "source": [
    "import re\n",
    "text=''' Shreyash Chaudhary shreyash.157@gmail.com 9935774600\n",
    "         Manasvi Narayan manasvi2@gmail.com     6022587745\n",
    "         Ghanishtha Upadhyaya ginny8@gmail.com        9987555632\n",
    "         Nidhi Mathur    nidhi@gmail.com        9658444233\n",
    "         Naman Bhagoliwal    nama.58@yahoo.com         5874693222\n",
    "         Dilprit Kaur     harsh_@outlook.com        8896325874\n",
    "         Sharwari Gujjar     sharru@gmail.com       7896655222\n",
    "         Shristy Snehi     siri@gmail.com         7855412588'''\n",
    "email=re.findall(r'[a-z,0-9,.,_]*@[a-z]*\\.com',text)\n",
    "print(email)"
   ]
  },
  {
   "cell_type": "code",
   "execution_count": null,
   "metadata": {},
   "outputs": [],
   "source": [
    "name=re.findall(r'([A-Z][a-z]+)\\s([A-Z][a-z]+)?',text)\n",
    "for n in name: \n",
    "    print(f'First name: {n[0]} \\tSecond name: {n[1]}')"
   ]
  },
  {
   "cell_type": "code",
   "execution_count": 71,
   "metadata": {},
   "outputs": [
    {
     "name": "stdout",
     "output_type": "stream",
     "text": [
      "['157', '9935774600', '6022587745', '9987555632', '9658444233', '58', '5874693222', '8896325874', '7896655222', '7855412588']\n"
     ]
    }
   ],
   "source": [
    "number=re.findall(r'\\d{2,10}',text)\n",
    "print(number)"
   ]
  },
  {
   "cell_type": "code",
   "execution_count": null,
   "metadata": {},
   "outputs": [],
   "source": []
  }
 ],
 "metadata": {
  "kernelspec": {
   "display_name": "Python 3",
   "language": "python",
   "name": "python3"
  },
  "language_info": {
   "codemirror_mode": {
    "name": "ipython",
    "version": 3
   },
   "file_extension": ".py",
   "mimetype": "text/x-python",
   "name": "python",
   "nbconvert_exporter": "python",
   "pygments_lexer": "ipython3",
   "version": "3.8.5"
  }
 },
 "nbformat": 4,
 "nbformat_minor": 4
}
