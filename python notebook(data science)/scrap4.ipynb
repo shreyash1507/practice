{
 "cells": [
  {
   "cell_type": "code",
   "execution_count": 1,
   "metadata": {},
   "outputs": [],
   "source": [
    "import pandas as pd\n",
    "import matplotlib.pyplot as plt\n",
    "import seaborn as sb"
   ]
  },
  {
   "cell_type": "code",
   "execution_count": 16,
   "metadata": {},
   "outputs": [],
   "source": [
    "df=pd.read_csv('quotes.csv')"
   ]
  },
  {
   "cell_type": "code",
   "execution_count": 17,
   "metadata": {},
   "outputs": [
    {
     "data": {
      "text/html": [
       "<div>\n",
       "<style scoped>\n",
       "    .dataframe tbody tr th:only-of-type {\n",
       "        vertical-align: middle;\n",
       "    }\n",
       "\n",
       "    .dataframe tbody tr th {\n",
       "        vertical-align: top;\n",
       "    }\n",
       "\n",
       "    .dataframe thead th {\n",
       "        text-align: right;\n",
       "    }\n",
       "</style>\n",
       "<table border=\"1\" class=\"dataframe\">\n",
       "  <thead>\n",
       "    <tr style=\"text-align: right;\">\n",
       "      <th></th>\n",
       "      <th>Unnamed: 0</th>\n",
       "      <th>author</th>\n",
       "      <th>quotes</th>\n",
       "      <th>tags</th>\n",
       "    </tr>\n",
       "  </thead>\n",
       "  <tbody>\n",
       "    <tr>\n",
       "      <th>0</th>\n",
       "      <td>0</td>\n",
       "      <td>Albert Einstein</td>\n",
       "      <td>“The world as we have created it is a process ...</td>\n",
       "      <td>['change', 'deep-thoughts', 'thinking', 'world']</td>\n",
       "    </tr>\n",
       "    <tr>\n",
       "      <th>1</th>\n",
       "      <td>1</td>\n",
       "      <td>J.K. Rowling</td>\n",
       "      <td>“It is our choices, Harry, that show what we t...</td>\n",
       "      <td>['abilities', 'choices']</td>\n",
       "    </tr>\n",
       "    <tr>\n",
       "      <th>2</th>\n",
       "      <td>2</td>\n",
       "      <td>Albert Einstein</td>\n",
       "      <td>“There are only two ways to live your life. On...</td>\n",
       "      <td>['inspirational', 'life', 'live', 'miracle', '...</td>\n",
       "    </tr>\n",
       "    <tr>\n",
       "      <th>3</th>\n",
       "      <td>3</td>\n",
       "      <td>Jane Austen</td>\n",
       "      <td>“The person, be it gentleman or lady, who has ...</td>\n",
       "      <td>['aliteracy', 'books', 'classic', 'humor']</td>\n",
       "    </tr>\n",
       "    <tr>\n",
       "      <th>4</th>\n",
       "      <td>4</td>\n",
       "      <td>Marilyn Monroe</td>\n",
       "      <td>“Imperfection is beauty, madness is genius and...</td>\n",
       "      <td>['be-yourself', 'inspirational']</td>\n",
       "    </tr>\n",
       "  </tbody>\n",
       "</table>\n",
       "</div>"
      ],
      "text/plain": [
       "   Unnamed: 0           author  \\\n",
       "0           0  Albert Einstein   \n",
       "1           1     J.K. Rowling   \n",
       "2           2  Albert Einstein   \n",
       "3           3      Jane Austen   \n",
       "4           4   Marilyn Monroe   \n",
       "\n",
       "                                              quotes  \\\n",
       "0  “The world as we have created it is a process ...   \n",
       "1  “It is our choices, Harry, that show what we t...   \n",
       "2  “There are only two ways to live your life. On...   \n",
       "3  “The person, be it gentleman or lady, who has ...   \n",
       "4  “Imperfection is beauty, madness is genius and...   \n",
       "\n",
       "                                                tags  \n",
       "0   ['change', 'deep-thoughts', 'thinking', 'world']  \n",
       "1                           ['abilities', 'choices']  \n",
       "2  ['inspirational', 'life', 'live', 'miracle', '...  \n",
       "3         ['aliteracy', 'books', 'classic', 'humor']  \n",
       "4                   ['be-yourself', 'inspirational']  "
      ]
     },
     "execution_count": 17,
     "metadata": {},
     "output_type": "execute_result"
    }
   ],
   "source": [
    "df.head()"
   ]
  },
  {
   "cell_type": "code",
   "execution_count": 18,
   "metadata": {},
   "outputs": [],
   "source": [
    "df['length']=df['quotes'].apply(len)"
   ]
  },
  {
   "cell_type": "code",
   "execution_count": 19,
   "metadata": {},
   "outputs": [
    {
     "data": {
      "text/html": [
       "<div>\n",
       "<style scoped>\n",
       "    .dataframe tbody tr th:only-of-type {\n",
       "        vertical-align: middle;\n",
       "    }\n",
       "\n",
       "    .dataframe tbody tr th {\n",
       "        vertical-align: top;\n",
       "    }\n",
       "\n",
       "    .dataframe thead th {\n",
       "        text-align: right;\n",
       "    }\n",
       "</style>\n",
       "<table border=\"1\" class=\"dataframe\">\n",
       "  <thead>\n",
       "    <tr style=\"text-align: right;\">\n",
       "      <th></th>\n",
       "      <th>Unnamed: 0</th>\n",
       "      <th>author</th>\n",
       "      <th>quotes</th>\n",
       "      <th>tags</th>\n",
       "      <th>length</th>\n",
       "    </tr>\n",
       "  </thead>\n",
       "  <tbody>\n",
       "    <tr>\n",
       "      <th>0</th>\n",
       "      <td>0</td>\n",
       "      <td>Albert Einstein</td>\n",
       "      <td>“The world as we have created it is a process ...</td>\n",
       "      <td>['change', 'deep-thoughts', 'thinking', 'world']</td>\n",
       "      <td>115</td>\n",
       "    </tr>\n",
       "    <tr>\n",
       "      <th>1</th>\n",
       "      <td>1</td>\n",
       "      <td>J.K. Rowling</td>\n",
       "      <td>“It is our choices, Harry, that show what we t...</td>\n",
       "      <td>['abilities', 'choices']</td>\n",
       "      <td>85</td>\n",
       "    </tr>\n",
       "    <tr>\n",
       "      <th>2</th>\n",
       "      <td>2</td>\n",
       "      <td>Albert Einstein</td>\n",
       "      <td>“There are only two ways to live your life. On...</td>\n",
       "      <td>['inspirational', 'life', 'live', 'miracle', '...</td>\n",
       "      <td>131</td>\n",
       "    </tr>\n",
       "    <tr>\n",
       "      <th>3</th>\n",
       "      <td>3</td>\n",
       "      <td>Jane Austen</td>\n",
       "      <td>“The person, be it gentleman or lady, who has ...</td>\n",
       "      <td>['aliteracy', 'books', 'classic', 'humor']</td>\n",
       "      <td>104</td>\n",
       "    </tr>\n",
       "    <tr>\n",
       "      <th>4</th>\n",
       "      <td>4</td>\n",
       "      <td>Marilyn Monroe</td>\n",
       "      <td>“Imperfection is beauty, madness is genius and...</td>\n",
       "      <td>['be-yourself', 'inspirational']</td>\n",
       "      <td>111</td>\n",
       "    </tr>\n",
       "  </tbody>\n",
       "</table>\n",
       "</div>"
      ],
      "text/plain": [
       "   Unnamed: 0           author  \\\n",
       "0           0  Albert Einstein   \n",
       "1           1     J.K. Rowling   \n",
       "2           2  Albert Einstein   \n",
       "3           3      Jane Austen   \n",
       "4           4   Marilyn Monroe   \n",
       "\n",
       "                                              quotes  \\\n",
       "0  “The world as we have created it is a process ...   \n",
       "1  “It is our choices, Harry, that show what we t...   \n",
       "2  “There are only two ways to live your life. On...   \n",
       "3  “The person, be it gentleman or lady, who has ...   \n",
       "4  “Imperfection is beauty, madness is genius and...   \n",
       "\n",
       "                                                tags  length  \n",
       "0   ['change', 'deep-thoughts', 'thinking', 'world']     115  \n",
       "1                           ['abilities', 'choices']      85  \n",
       "2  ['inspirational', 'life', 'live', 'miracle', '...     131  \n",
       "3         ['aliteracy', 'books', 'classic', 'humor']     104  \n",
       "4                   ['be-yourself', 'inspirational']     111  "
      ]
     },
     "execution_count": 19,
     "metadata": {},
     "output_type": "execute_result"
    }
   ],
   "source": [
    "df.head()"
   ]
  },
  {
   "cell_type": "code",
   "execution_count": 27,
   "metadata": {},
   "outputs": [
    {
     "data": {
      "text/plain": [
       "author\n",
       "Marilyn Monroe            1686\n",
       "J.K. Rowling              1066\n",
       "Albert Einstein            937\n",
       "C.S. Lewis                 922\n",
       "Jane Austen                859\n",
       "Bob Marley                 859\n",
       "Dr. Seuss                  646\n",
       "Mark Twain                 439\n",
       "Ralph Waldo Emerson        337\n",
       "Charles Bukowski           323\n",
       "Pablo Neruda               319\n",
       "J.D. Salinger              241\n",
       "Elie Wiesel                224\n",
       "George R.R. Martin         182\n",
       "Helen Keller               153\n",
       "Suzanne Collins            152\n",
       "Harper Lee                 148\n",
       "Madeleine L'Engle          139\n",
       "Jim Henson                 134\n",
       "Mother Teresa              133\n",
       "Eleanor Roosevelt          126\n",
       "Terry Pratchett            125\n",
       "Garrison Keillor           123\n",
       "Ernest Hemingway           120\n",
       "James Baldwin              118\n",
       "John Lennon                117\n",
       "Haruki Murakami            110\n",
       "Jimi Hendrix               103\n",
       "Douglas Adams               95\n",
       "Alfred Tennyson             93\n",
       "André Gide                  82\n",
       "Friedrich Nietzsche         82\n",
       "George Carlin               81\n",
       "Ayn Rand                    74\n",
       "Charles M. Schulz           73\n",
       "Alexandre Dumas fils        72\n",
       "George Bernard Shaw         69\n",
       "Thomas A. Edison            65\n",
       "Jorge Luis Borges           65\n",
       "Khaled Hosseini             64\n",
       "Allen Saunders              61\n",
       "E.E. Cummings               60\n",
       "W.C. Fields                 55\n",
       "George Eliot                54\n",
       "Steve Martin                50\n",
       "Martin Luther King Jr.      45\n",
       "J.M. Barrie                 42\n",
       "J.R.R. Tolkien              36\n",
       "Stephenie Meyer             34\n",
       "William Nicholson           34\n",
       "Name: length, dtype: int64"
      ]
     },
     "execution_count": 27,
     "metadata": {},
     "output_type": "execute_result"
    }
   ],
   "source": [
    "df.groupby('author').sum()['length'].sort_values(ascending=False)"
   ]
  },
  {
   "cell_type": "code",
   "execution_count": 28,
   "metadata": {},
   "outputs": [
    {
     "data": {
      "text/plain": [
       "<seaborn.axisgrid.FacetGrid at 0x1d93d9c3fa0>"
      ]
     },
     "execution_count": 28,
     "metadata": {},
     "output_type": "execute_result"
    },
    {
     "data": {
      "image/png": "[encoded data removed]",
      "text/plain": [
       "<Figure size 360x360 with 1 Axes>"
      ]
     },
     "metadata": {
      "needs_background": "light"
     },
     "output_type": "display_data"
    }
   ],
   "source": [
    "sb.relplot(data=df,x='author',y='length',)"
   ]
  },
  {
   "cell_type": "code",
   "execution_count": 29,
   "metadata": {},
   "outputs": [
    {
     "data": {
      "text/plain": [
       "Albert Einstein           10\n",
       "J.K. Rowling               9\n",
       "Marilyn Monroe             7\n",
       "Dr. Seuss                  6\n",
       "Mark Twain                 6\n",
       "Jane Austen                5\n",
       "C.S. Lewis                 5\n",
       "Bob Marley                 3\n",
       "Eleanor Roosevelt          2\n",
       "George R.R. Martin         2\n",
       "Charles Bukowski           2\n",
       "Ralph Waldo Emerson        2\n",
       "Ernest Hemingway           2\n",
       "Suzanne Collins            2\n",
       "Mother Teresa              2\n",
       "Alexandre Dumas fils       1\n",
       "Thomas A. Edison           1\n",
       "E.E. Cummings              1\n",
       "Friedrich Nietzsche        1\n",
       "J.M. Barrie                1\n",
       "George Eliot               1\n",
       "Steve Martin               1\n",
       "Khaled Hosseini            1\n",
       "George Bernard Shaw        1\n",
       "Allen Saunders             1\n",
       "J.R.R. Tolkien             1\n",
       "James Baldwin              1\n",
       "J.D. Salinger              1\n",
       "Charles M. Schulz          1\n",
       "Ayn Rand                   1\n",
       "André Gide                 1\n",
       "Martin Luther King Jr.     1\n",
       "William Nicholson          1\n",
       "Harper Lee                 1\n",
       "Elie Wiesel                1\n",
       "Jimi Hendrix               1\n",
       "George Carlin              1\n",
       "Pablo Neruda               1\n",
       "John Lennon                1\n",
       "Stephenie Meyer            1\n",
       "Alfred Tennyson            1\n",
       "W.C. Fields                1\n",
       "Terry Pratchett            1\n",
       "Jorge Luis Borges          1\n",
       "Jim Henson                 1\n",
       "Helen Keller               1\n",
       "Madeleine L'Engle          1\n",
       "Haruki Murakami            1\n",
       "Douglas Adams              1\n",
       "Garrison Keillor           1\n",
       "Name: author, dtype: int64"
      ]
     },
     "execution_count": 29,
     "metadata": {},
     "output_type": "execute_result"
    }
   ],
   "source": [
    "df['author'].value_counts()"
   ]
  },
  {
   "cell_type": "code",
   "execution_count": 33,
   "metadata": {},
   "outputs": [
    {
     "data": {
      "text/plain": [
       "50"
      ]
     },
     "execution_count": 33,
     "metadata": {},
     "output_type": "execute_result"
    }
   ],
   "source": [
    "len(df['author'].unique())"
   ]
  },
  {
   "cell_type": "code",
   "execution_count": null,
   "metadata": {},
   "outputs": [],
   "source": []
  }
 ],
 "metadata": {
  "kernelspec": {
   "display_name": "Python 3",
   "language": "python",
   "name": "python3"
  },
  "language_info": {
   "codemirror_mode": {
    "name": "ipython",
    "version": 3
   },
   "file_extension": ".py",
   "mimetype": "text/x-python",
   "name": "python",
   "nbconvert_exporter": "python",
   "pygments_lexer": "ipython3",
   "version": "3.8.5"
  }
 },
 "nbformat": 4,
 "nbformat_minor": 4
}
